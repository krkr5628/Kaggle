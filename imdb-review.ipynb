{
 "cells": [
  {
   "cell_type": "code",
   "execution_count": 1,
   "id": "b3e0cc07",
   "metadata": {
    "_cell_guid": "b1076dfc-b9ad-4769-8c92-a6c4dae69d19",
    "_uuid": "8f2839f25d086af736a60e9eeb907d3b93b6e0e5",
    "execution": {
     "iopub.execute_input": "2023-07-13T15:00:00.912548Z",
     "iopub.status.busy": "2023-07-13T15:00:00.912151Z",
     "iopub.status.idle": "2023-07-13T15:00:06.113849Z",
     "shell.execute_reply": "2023-07-13T15:00:06.112601Z"
    },
    "papermill": {
     "duration": 5.210029,
     "end_time": "2023-07-13T15:00:06.116694",
     "exception": false,
     "start_time": "2023-07-13T15:00:00.906665",
     "status": "completed"
    },
    "tags": []
   },
   "outputs": [
    {
     "name": "stdout",
     "output_type": "stream",
     "text": [
      "Archive:  /kaggle/input/word2vec-nlp-tutorial/testData.tsv.zip\r\n",
      "  inflating: testData.tsv            \r\n",
      "Archive:  /kaggle/input/word2vec-nlp-tutorial/labeledTrainData.tsv.zip\r\n",
      "  inflating: labeledTrainData.tsv    \r\n",
      "Archive:  /kaggle/input/word2vec-nlp-tutorial/unlabeledTrainData.tsv.zip\r\n",
      "  inflating: unlabeledTrainData.tsv  \r\n"
     ]
    }
   ],
   "source": [
    "import numpy as np # linear algebra\n",
    "import pandas as pd # data processing, CSV file I/O (e.g. pd.read_csv)\n",
    "\n",
    "!unzip '/kaggle/input/word2vec-nlp-tutorial/testData.tsv'\n",
    "!unzip '/kaggle/input/word2vec-nlp-tutorial/labeledTrainData.tsv'\n",
    "!unzip '/kaggle/input/word2vec-nlp-tutorial/unlabeledTrainData.tsv'"
   ]
  },
  {
   "cell_type": "code",
   "execution_count": 2,
   "id": "d75300bf",
   "metadata": {
    "execution": {
     "iopub.execute_input": "2023-07-13T15:00:06.126710Z",
     "iopub.status.busy": "2023-07-13T15:00:06.126295Z",
     "iopub.status.idle": "2023-07-13T15:00:07.948897Z",
     "shell.execute_reply": "2023-07-13T15:00:07.947795Z"
    },
    "papermill": {
     "duration": 1.831401,
     "end_time": "2023-07-13T15:00:07.952169",
     "exception": false,
     "start_time": "2023-07-13T15:00:06.120768",
     "status": "completed"
    },
    "tags": []
   },
   "outputs": [],
   "source": [
    "import pandas as pd\n",
    "testData = pd.read_csv('./testData.tsv', header=0, delimiter=\"\\t\", quoting=3)\n",
    "labeledTrainData = pd.read_csv('./labeledTrainData.tsv', header=0, delimiter=\"\\t\", quoting=3)\n",
    "unlabeledTrainData = pd.read_csv('./unlabeledTrainData.tsv', header=0, delimiter=\"\\t\", quoting=3)\n",
    "submission = pd.read_csv('../input/word2vec-nlp-tutorial/sampleSubmission.csv')"
   ]
  },
  {
   "cell_type": "markdown",
   "id": "58c28a2a",
   "metadata": {
    "papermill": {
     "duration": 0.004586,
     "end_time": "2023-07-13T15:00:07.960689",
     "exception": false,
     "start_time": "2023-07-13T15:00:07.956103",
     "status": "completed"
    },
    "tags": []
   },
   "source": [
    "- testData : 리뷰ID, 리뷰 텍스트\n",
    "- labeledTrainData : 리뷰ID, 감정(sentiment, 1-긍정, 2-부정), 리뷰 텍스트\n",
    "- unlabeledTrainData : 리뷰ID, 리뷰 텍스트 => 추가 학습 세트"
   ]
  },
  {
   "cell_type": "code",
   "execution_count": 3,
   "id": "b1ddbf63",
   "metadata": {
    "execution": {
     "iopub.execute_input": "2023-07-13T15:00:07.975908Z",
     "iopub.status.busy": "2023-07-13T15:00:07.974815Z",
     "iopub.status.idle": "2023-07-13T15:00:08.001838Z",
     "shell.execute_reply": "2023-07-13T15:00:08.000437Z"
    },
    "papermill": {
     "duration": 0.038953,
     "end_time": "2023-07-13T15:00:08.004833",
     "exception": false,
     "start_time": "2023-07-13T15:00:07.965880",
     "status": "completed"
    },
    "tags": []
   },
   "outputs": [
    {
     "data": {
      "text/html": [
       "<div>\n",
       "<style scoped>\n",
       "    .dataframe tbody tr th:only-of-type {\n",
       "        vertical-align: middle;\n",
       "    }\n",
       "\n",
       "    .dataframe tbody tr th {\n",
       "        vertical-align: top;\n",
       "    }\n",
       "\n",
       "    .dataframe thead th {\n",
       "        text-align: right;\n",
       "    }\n",
       "</style>\n",
       "<table border=\"1\" class=\"dataframe\">\n",
       "  <thead>\n",
       "    <tr style=\"text-align: right;\">\n",
       "      <th></th>\n",
       "      <th>id</th>\n",
       "      <th>review</th>\n",
       "    </tr>\n",
       "  </thead>\n",
       "  <tbody>\n",
       "    <tr>\n",
       "      <th>0</th>\n",
       "      <td>\"12311_10\"</td>\n",
       "      <td>\"Naturally in a film who's main themes are of ...</td>\n",
       "    </tr>\n",
       "    <tr>\n",
       "      <th>1</th>\n",
       "      <td>\"8348_2\"</td>\n",
       "      <td>\"This movie is a disaster within a disaster fi...</td>\n",
       "    </tr>\n",
       "    <tr>\n",
       "      <th>2</th>\n",
       "      <td>\"5828_4\"</td>\n",
       "      <td>\"All in all, this is a movie for kids. We saw ...</td>\n",
       "    </tr>\n",
       "    <tr>\n",
       "      <th>3</th>\n",
       "      <td>\"7186_2\"</td>\n",
       "      <td>\"Afraid of the Dark left me with the impressio...</td>\n",
       "    </tr>\n",
       "    <tr>\n",
       "      <th>4</th>\n",
       "      <td>\"12128_7\"</td>\n",
       "      <td>\"A very accurate depiction of small time mob l...</td>\n",
       "    </tr>\n",
       "  </tbody>\n",
       "</table>\n",
       "</div>"
      ],
      "text/plain": [
       "           id                                             review\n",
       "0  \"12311_10\"  \"Naturally in a film who's main themes are of ...\n",
       "1    \"8348_2\"  \"This movie is a disaster within a disaster fi...\n",
       "2    \"5828_4\"  \"All in all, this is a movie for kids. We saw ...\n",
       "3    \"7186_2\"  \"Afraid of the Dark left me with the impressio...\n",
       "4   \"12128_7\"  \"A very accurate depiction of small time mob l..."
      ]
     },
     "execution_count": 3,
     "metadata": {},
     "output_type": "execute_result"
    }
   ],
   "source": [
    "testData.head()"
   ]
  },
  {
   "cell_type": "code",
   "execution_count": 4,
   "id": "c0f45c02",
   "metadata": {
    "execution": {
     "iopub.execute_input": "2023-07-13T15:00:08.014703Z",
     "iopub.status.busy": "2023-07-13T15:00:08.014296Z",
     "iopub.status.idle": "2023-07-13T15:00:08.027293Z",
     "shell.execute_reply": "2023-07-13T15:00:08.025995Z"
    },
    "papermill": {
     "duration": 0.020956,
     "end_time": "2023-07-13T15:00:08.029871",
     "exception": false,
     "start_time": "2023-07-13T15:00:08.008915",
     "status": "completed"
    },
    "tags": []
   },
   "outputs": [
    {
     "data": {
      "text/html": [
       "<div>\n",
       "<style scoped>\n",
       "    .dataframe tbody tr th:only-of-type {\n",
       "        vertical-align: middle;\n",
       "    }\n",
       "\n",
       "    .dataframe tbody tr th {\n",
       "        vertical-align: top;\n",
       "    }\n",
       "\n",
       "    .dataframe thead th {\n",
       "        text-align: right;\n",
       "    }\n",
       "</style>\n",
       "<table border=\"1\" class=\"dataframe\">\n",
       "  <thead>\n",
       "    <tr style=\"text-align: right;\">\n",
       "      <th></th>\n",
       "      <th>id</th>\n",
       "      <th>sentiment</th>\n",
       "      <th>review</th>\n",
       "    </tr>\n",
       "  </thead>\n",
       "  <tbody>\n",
       "    <tr>\n",
       "      <th>0</th>\n",
       "      <td>\"5814_8\"</td>\n",
       "      <td>1</td>\n",
       "      <td>\"With all this stuff going down at the moment ...</td>\n",
       "    </tr>\n",
       "    <tr>\n",
       "      <th>1</th>\n",
       "      <td>\"2381_9\"</td>\n",
       "      <td>1</td>\n",
       "      <td>\"\\\"The Classic War of the Worlds\\\" by Timothy ...</td>\n",
       "    </tr>\n",
       "    <tr>\n",
       "      <th>2</th>\n",
       "      <td>\"7759_3\"</td>\n",
       "      <td>0</td>\n",
       "      <td>\"The film starts with a manager (Nicholas Bell...</td>\n",
       "    </tr>\n",
       "    <tr>\n",
       "      <th>3</th>\n",
       "      <td>\"3630_4\"</td>\n",
       "      <td>0</td>\n",
       "      <td>\"It must be assumed that those who praised thi...</td>\n",
       "    </tr>\n",
       "    <tr>\n",
       "      <th>4</th>\n",
       "      <td>\"9495_8\"</td>\n",
       "      <td>1</td>\n",
       "      <td>\"Superbly trashy and wondrously unpretentious ...</td>\n",
       "    </tr>\n",
       "  </tbody>\n",
       "</table>\n",
       "</div>"
      ],
      "text/plain": [
       "         id  sentiment                                             review\n",
       "0  \"5814_8\"          1  \"With all this stuff going down at the moment ...\n",
       "1  \"2381_9\"          1  \"\\\"The Classic War of the Worlds\\\" by Timothy ...\n",
       "2  \"7759_3\"          0  \"The film starts with a manager (Nicholas Bell...\n",
       "3  \"3630_4\"          0  \"It must be assumed that those who praised thi...\n",
       "4  \"9495_8\"          1  \"Superbly trashy and wondrously unpretentious ..."
      ]
     },
     "execution_count": 4,
     "metadata": {},
     "output_type": "execute_result"
    }
   ],
   "source": [
    "labeledTrainData.head()"
   ]
  },
  {
   "cell_type": "code",
   "execution_count": 5,
   "id": "b2c80a0f",
   "metadata": {
    "execution": {
     "iopub.execute_input": "2023-07-13T15:00:08.041147Z",
     "iopub.status.busy": "2023-07-13T15:00:08.040303Z",
     "iopub.status.idle": "2023-07-13T15:00:08.055381Z",
     "shell.execute_reply": "2023-07-13T15:00:08.054015Z"
    },
    "papermill": {
     "duration": 0.024644,
     "end_time": "2023-07-13T15:00:08.058801",
     "exception": false,
     "start_time": "2023-07-13T15:00:08.034157",
     "status": "completed"
    },
    "tags": []
   },
   "outputs": [
    {
     "data": {
      "text/html": [
       "<div>\n",
       "<style scoped>\n",
       "    .dataframe tbody tr th:only-of-type {\n",
       "        vertical-align: middle;\n",
       "    }\n",
       "\n",
       "    .dataframe tbody tr th {\n",
       "        vertical-align: top;\n",
       "    }\n",
       "\n",
       "    .dataframe thead th {\n",
       "        text-align: right;\n",
       "    }\n",
       "</style>\n",
       "<table border=\"1\" class=\"dataframe\">\n",
       "  <thead>\n",
       "    <tr style=\"text-align: right;\">\n",
       "      <th></th>\n",
       "      <th>id</th>\n",
       "      <th>review</th>\n",
       "    </tr>\n",
       "  </thead>\n",
       "  <tbody>\n",
       "    <tr>\n",
       "      <th>0</th>\n",
       "      <td>\"9999_0\"</td>\n",
       "      <td>\"Watching Time Chasers, it obvious that it was...</td>\n",
       "    </tr>\n",
       "    <tr>\n",
       "      <th>1</th>\n",
       "      <td>\"45057_0\"</td>\n",
       "      <td>\"I saw this film about 20 years ago and rememb...</td>\n",
       "    </tr>\n",
       "    <tr>\n",
       "      <th>2</th>\n",
       "      <td>\"15561_0\"</td>\n",
       "      <td>\"Minor Spoilers&lt;br /&gt;&lt;br /&gt;In New York, Joan B...</td>\n",
       "    </tr>\n",
       "    <tr>\n",
       "      <th>3</th>\n",
       "      <td>\"7161_0\"</td>\n",
       "      <td>\"I went to see this film with a great deal of ...</td>\n",
       "    </tr>\n",
       "    <tr>\n",
       "      <th>4</th>\n",
       "      <td>\"43971_0\"</td>\n",
       "      <td>\"Yes, I agree with everyone on this site this ...</td>\n",
       "    </tr>\n",
       "  </tbody>\n",
       "</table>\n",
       "</div>"
      ],
      "text/plain": [
       "          id                                             review\n",
       "0   \"9999_0\"  \"Watching Time Chasers, it obvious that it was...\n",
       "1  \"45057_0\"  \"I saw this film about 20 years ago and rememb...\n",
       "2  \"15561_0\"  \"Minor Spoilers<br /><br />In New York, Joan B...\n",
       "3   \"7161_0\"  \"I went to see this film with a great deal of ...\n",
       "4  \"43971_0\"  \"Yes, I agree with everyone on this site this ..."
      ]
     },
     "execution_count": 5,
     "metadata": {},
     "output_type": "execute_result"
    }
   ],
   "source": [
    "unlabeledTrainData.head()"
   ]
  }
 ],
 "metadata": {
  "kernelspec": {
   "display_name": "Python 3",
   "language": "python",
   "name": "python3"
  },
  "language_info": {
   "codemirror_mode": {
    "name": "ipython",
    "version": 3
   },
   "file_extension": ".py",
   "mimetype": "text/x-python",
   "name": "python",
   "nbconvert_exporter": "python",
   "pygments_lexer": "ipython3",
   "version": "3.10.12"
  },
  "papermill": {
   "default_parameters": {},
   "duration": 20.735807,
   "end_time": "2023-07-13T15:00:09.092343",
   "environment_variables": {},
   "exception": null,
   "input_path": "__notebook__.ipynb",
   "output_path": "__notebook__.ipynb",
   "parameters": {},
   "start_time": "2023-07-13T14:59:48.356536",
   "version": "2.4.0"
  }
 },
 "nbformat": 4,
 "nbformat_minor": 5
}
